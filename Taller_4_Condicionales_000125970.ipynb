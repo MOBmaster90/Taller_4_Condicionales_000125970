{
  "nbformat": 4,
  "nbformat_minor": 0,
  "metadata": {
    "colab": {
      "provenance": [],
      "authorship_tag": "ABX9TyPbzeNJuP/zt+eFipFLVeIn",
      "include_colab_link": true
    },
    "kernelspec": {
      "name": "python3",
      "display_name": "Python 3"
    },
    "language_info": {
      "name": "python"
    }
  },
  "cells": [
    {
      "cell_type": "markdown",
      "metadata": {
        "id": "view-in-github",
        "colab_type": "text"
      },
      "source": [
        "<a href=\"https://colab.research.google.com/github/MOBmaster90/Taller_4_Condicionales_000125970/blob/main/Taller_4_Condicionales_000125970.ipynb\" target=\"_parent\"><img src=\"https://colab.research.google.com/assets/colab-badge.svg\" alt=\"Open In Colab\"/></a>"
      ]
    },
    {
      "cell_type": "code",
      "execution_count": null,
      "metadata": {
        "id": "yNbmu754KR2q"
      },
      "outputs": [],
      "source": [
        "print(\"Ejercicio 1\")\n",
        "nota = float(input(\"Ingrese la nota: \"))\n",
        "if nota >= 3:\n",
        "  print(\"El estudiante aprobo\")\n",
        "else:\n",
        "  print(\"El estudiante Reprobo\")\n"
      ]
    },
    {
      "cell_type": "code",
      "source": [
        "print(\"Ejercicio 2\")\n",
        "num = float(input(\"Ingrese un numero: \"))\n",
        "if num > 0:\n",
        "  print(\"El numero ingresado es positivo\")\n",
        "\n",
        "if num < 0:\n",
        "  print(\"El numero ingresado es negativo\")\n",
        "\n",
        "if num == 0:\n",
        "  print(\"El numero ingresado es cero\")\n"
      ],
      "metadata": {
        "id": "ztWUXBXnbPNA"
      },
      "execution_count": null,
      "outputs": []
    },
    {
      "cell_type": "code",
      "source": [
        "print(\"Ejercicio 3\")\n",
        "contrasena = \"python123\"\n",
        "\n",
        "contra = input(\"Ingrese la contraseña: \")\n",
        "\n",
        "if contrasena == contra:\n",
        "  print(\"Contraseña valida\")\n",
        "else:\n",
        "  print(\"Contraseña Incorrecta\")\n"
      ],
      "metadata": {
        "id": "UOAoKfBpbPfr"
      },
      "execution_count": null,
      "outputs": []
    },
    {
      "cell_type": "code",
      "source": [
        "print(\"Ejercicio 4\")\n",
        "num = int(input(\"Ingrese un numero entero: \"))\n",
        "if num % 2 == 0:\n",
        "  print(\"El numero Ingresado es par\")\n",
        "else:\n",
        "  print(\"El numero Ingresado es impar\")\n"
      ],
      "metadata": {
        "id": "e-_lIgVobjgC"
      },
      "execution_count": null,
      "outputs": []
    },
    {
      "cell_type": "code",
      "source": [
        "print(\"Ejercicio 5\")\n",
        "num1 = float(input(\"Ingrese el primer numero: \"))\n",
        "num2 = float(input(\"Ingrese el segundo numero: \"))\n",
        "num3 = float(input(\"Ingrese el tercer numero: \"))\n",
        "num4 = float(input(\"Ingrese el cuarto numero: \"))\n",
        "num5 = float(input(\"Ingrese el quinto numero: \"))\n",
        "\n",
        "if num1 > num2 and num1 > num3 and num1 > num4 and num1 > num5:\n",
        "  print(\"El primer numero (\", num1, \") es el mayor\")\n",
        "\n",
        "if num2 > num1 and num2 > num3 and num2 > num4 and num2 > num5:\n",
        "  print(\"El segundo numero (\", num2, \") es el mayor\")\n",
        "\n",
        "if num3 > num2 and num3 > num1 and num3 > num4 and num3 > num5:\n",
        "  print(\"El tercer numero (\", num3, \") es el mayor\")\n",
        "\n",
        "if num4 > num2 and num4 > num3 and num4 > num1 and num4 > num5:\n",
        "  print(\"El cuarto numero (\", num4, \") es el mayor\")\n",
        "\n",
        "if num5 > num2 and num5 > num3 and num5 > num4 and num5 > num1:\n",
        "  print(\"El quinto numero (\", num5, \") es el mayor\")\n",
        "\n",
        "\n"
      ],
      "metadata": {
        "colab": {
          "base_uri": "https://localhost:8080/"
        },
        "id": "PxFR41Fybjs0",
        "outputId": "9a6fd1a3-e33e-464f-c9aa-605fce328ba6"
      },
      "execution_count": 4,
      "outputs": [
        {
          "output_type": "stream",
          "name": "stdout",
          "text": [
            "Ejercicio 5\n",
            "Ingrese el primer numero: 5\n",
            "Ingrese el segundo numero: 4\n",
            "Ingrese el tercer numero: 3\n",
            "Ingrese el cuarto numero: 2\n",
            "Ingrese el quinto numero: 1\n",
            "El primer numero ( 5.0 ) es el mayor\n"
          ]
        }
      ]
    },
    {
      "cell_type": "code",
      "source": [
        "print(\"Ejercicio 6\")\n",
        "edad = int(input(\"Ingrese la edad en años\"))\n",
        "\n",
        "if edad <= 12:\n",
        "  print(\"Niño\")\n",
        "\n",
        "if edad >= 13 and edad <= 19:\n",
        "  print(\"Adolescente\")\n",
        "\n",
        "if edad >= 20 and edad <= 64:\n",
        "  print(\"Adulto\")\n",
        "\n",
        "if edad >= 65:\n",
        "  print(\"Adulto Mayor\")\n"
      ],
      "metadata": {
        "colab": {
          "base_uri": "https://localhost:8080/"
        },
        "id": "mI5e9kXSbkXc",
        "outputId": "ddda8d58-3c23-4681-cddc-7c1c0e12eff0"
      },
      "execution_count": 2,
      "outputs": [
        {
          "output_type": "stream",
          "name": "stdout",
          "text": [
            "Ejercicio 6\n",
            "Ingrese la edad en años14\n",
            "Adolescente\n"
          ]
        }
      ]
    }
  ]
}