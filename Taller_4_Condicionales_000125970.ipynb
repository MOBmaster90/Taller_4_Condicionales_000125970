{
  "nbformat": 4,
  "nbformat_minor": 0,
  "metadata": {
    "colab": {
      "provenance": [],
      "authorship_tag": "ABX9TyMKXwhN+2qL5pymkxVRX7H1",
      "include_colab_link": true
    },
    "kernelspec": {
      "name": "python3",
      "display_name": "Python 3"
    },
    "language_info": {
      "name": "python"
    }
  },
  "cells": [
    {
      "cell_type": "markdown",
      "metadata": {
        "id": "view-in-github",
        "colab_type": "text"
      },
      "source": [
        "<a href=\"https://colab.research.google.com/github/MOBmaster90/Taller_4_Condicionales_000125970/blob/main/Taller_4_Condicionales_000125970.ipynb\" target=\"_parent\"><img src=\"https://colab.research.google.com/assets/colab-badge.svg\" alt=\"Open In Colab\"/></a>"
      ]
    },
    {
      "cell_type": "code",
      "execution_count": null,
      "metadata": {
        "id": "yNbmu754KR2q"
      },
      "outputs": [],
      "source": [
        "print(\"Ejercicio 1\")"
      ]
    },
    {
      "cell_type": "code",
      "source": [
        "print(\"Ejercicio 2\")"
      ],
      "metadata": {
        "id": "ztWUXBXnbPNA"
      },
      "execution_count": null,
      "outputs": []
    },
    {
      "cell_type": "code",
      "source": [
        "print(\"Ejercicio 3\")"
      ],
      "metadata": {
        "id": "UOAoKfBpbPfr"
      },
      "execution_count": null,
      "outputs": []
    },
    {
      "cell_type": "code",
      "source": [
        "print(\"Ejercicio 4\")"
      ],
      "metadata": {
        "id": "e-_lIgVobjgC"
      },
      "execution_count": null,
      "outputs": []
    },
    {
      "cell_type": "code",
      "source": [
        "print(\"Ejercicio 5\")"
      ],
      "metadata": {
        "id": "PxFR41Fybjs0"
      },
      "execution_count": null,
      "outputs": []
    },
    {
      "cell_type": "code",
      "source": [
        "print(\"Ejercicio 6\")"
      ],
      "metadata": {
        "id": "mI5e9kXSbkXc"
      },
      "execution_count": null,
      "outputs": []
    }
  ]
}